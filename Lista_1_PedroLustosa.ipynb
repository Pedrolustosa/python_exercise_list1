{
  "nbformat": 4,
  "nbformat_minor": 0,
  "metadata": {
    "colab": {
      "provenance": [],
      "authorship_tag": "ABX9TyPPAowbi2escQs4g0f9sBnW",
      "include_colab_link": true
    },
    "kernelspec": {
      "name": "python3",
      "display_name": "Python 3"
    },
    "language_info": {
      "name": "python"
    }
  },
  "cells": [
    {
      "cell_type": "markdown",
      "metadata": {
        "id": "view-in-github",
        "colab_type": "text"
      },
      "source": [
        "<a href=\"https://colab.research.google.com/github/Pedrolustosa/python_exercise_list1/blob/main/Lista_1_PedroLustosa.ipynb\" target=\"_parent\"><img src=\"https://colab.research.google.com/assets/colab-badge.svg\" alt=\"Open In Colab\"/></a>"
      ]
    },
    {
      "cell_type": "markdown",
      "source": [
        "1 - Compute a saída da seguinte expressão matemática sem realizar nenhuma simplificação:\n",
        "$ a^{2} + \\frac{3}{4} \\times b \\times 987(c - \\frac{10^{-9}}{\\sqrt{0.5^{3}}}) $. Assuma que os valores das variáveis a, b e c correpondam a 2, 4 e 8, respectivamente. Armazene o resultado em uma variável.\n",
        "\n",
        "Dica: consulte os operadores aritméticos disponíveis no Python. Utilize a biblioteca math para operação de raiz."
      ],
      "metadata": {
        "id": "JQjck00i889K"
      }
    },
    {
      "cell_type": "code",
      "execution_count": 4,
      "metadata": {
        "colab": {
          "base_uri": "https://localhost:8080/"
        },
        "id": "RqaxJyl468Yo",
        "outputId": "508cab34-4754-472d-a134-7cbffe1d5661"
      },
      "outputs": [
        {
          "output_type": "stream",
          "name": "stdout",
          "text": [
            "Reultado: 23691.999991625027\n"
          ]
        }
      ],
      "source": [
        "import math\n",
        "\n",
        "a = 2\n",
        "b = 4\n",
        "c = 8\n",
        "\n",
        "resultado = a**2 + (3/4) * b * 987 * (c - 10**(-9) / math.sqrt(0.5**3))\n",
        "print(f\"Reultado: {resultado}\" )"
      ]
    },
    {
      "cell_type": "markdown",
      "source": [
        "Armazene em uma variável o resto da divisão da expressão anterior por 23691"
      ],
      "metadata": {
        "id": "Lkf3VpmW9bOh"
      }
    },
    {
      "cell_type": "code",
      "source": [
        "resto_divisao = int(resultado) % 23691\n",
        "resto_divisao"
      ],
      "metadata": {
        "colab": {
          "base_uri": "https://localhost:8080/"
        },
        "id": "QIPKhtjQ9cFK",
        "outputId": "6f16226f-2a74-4bfe-b8fb-80285feea38a"
      },
      "execution_count": 7,
      "outputs": [
        {
          "output_type": "execute_result",
          "data": {
            "text/plain": [
              "0"
            ]
          },
          "metadata": {},
          "execution_count": 7
        }
      ]
    },
    {
      "cell_type": "markdown",
      "source": [
        "3 - Cheque se a saída do resto da divisão é ***i) igual a 1***, ***ii) maior que 1***, ***iii) menor ou igual que 1*** e ***iv) diferente de 1***. Utilize a função *print* para exibir a saída de cada checagem. Consulte os operadores relacionais disponívels no Python."
      ],
      "metadata": {
        "id": "q3dej8Hh-OOy"
      }
    },
    {
      "cell_type": "code",
      "source": [
        "condicao_i = resto_divisao == 1\n",
        "condicao_ii = resto_divisao > 1\n",
        "condicao_iii = resto_divisao <= 1\n",
        "condicao_iv = resto_divisao != 1\n",
        "\n",
        "print(f\"{condicao_i} - {condicao_ii} - {condicao_iii} - {condicao_iv} \")"
      ],
      "metadata": {
        "colab": {
          "base_uri": "https://localhost:8080/"
        },
        "id": "KFaCG_OJ-PXw",
        "outputId": "2658437f-5de4-4bb1-917e-43a57316b708"
      },
      "execution_count": 8,
      "outputs": [
        {
          "output_type": "stream",
          "name": "stdout",
          "text": [
            "False - False - True - True \n"
          ]
        }
      ]
    },
    {
      "cell_type": "markdown",
      "source": [
        "4 - Exiba a saída de operações booleanas do tipo **AND** e do tipo **OR** entre dois termos que apresentem valores:\n",
        "1. **verdadeiros**;\n",
        "2. **verdadeiro e falso**;\n",
        "3. **falsos**.\n",
        "\n",
        "Ao todo devem ser apresentadas seis operações."
      ],
      "metadata": {
        "id": "3Nr6DfHK-mDI"
      }
    },
    {
      "cell_type": "code",
      "source": [
        "termo1_verdadeiro = True\n",
        "termo2_verdadeiro = True\n",
        "\n",
        "resultado_and_1 = termo1_verdadeiro and termo2_verdadeiro\n",
        "resultado_or_1 = termo1_verdadeiro or termo2_verdadeiro\n",
        "\n",
        "print(\"1. AND entre dois termos verdadeiros:\", resultado_and_1)\n",
        "print(\"   OR entre dois termos verdadeiros:\", resultado_or_1)\n",
        "\n",
        "termo1_verdadeiro = True\n",
        "termo2_falso = False\n",
        "\n",
        "resultado_and_2 = termo1_verdadeiro and termo2_falso\n",
        "resultado_or_2 = termo1_verdadeiro or termo2_falso\n",
        "\n",
        "print(\"\\n2. AND entre um termo verdadeiro e um termo falso:\", resultado_and_2)\n",
        "print(\"   OR entre um termo verdadeiro e um termo falso:\", resultado_or_2)\n",
        "\n",
        "termo1_falso = False\n",
        "termo2_falso = False\n",
        "\n",
        "resultado_and_3 = termo1_falso and termo2_falso\n",
        "resultado_or_3 = termo1_falso or termo2_falso\n",
        "\n",
        "print(\"\\n3. AND entre dois termos falsos:\", resultado_and_3)\n",
        "print(\"   OR entre dois termos falsos:\", resultado_or_3)\n"
      ],
      "metadata": {
        "colab": {
          "base_uri": "https://localhost:8080/"
        },
        "id": "zug3BCOg-mzu",
        "outputId": "61bb7315-2736-4b8e-ac91-8d65587ec022"
      },
      "execution_count": 9,
      "outputs": [
        {
          "output_type": "stream",
          "name": "stdout",
          "text": [
            "1. AND entre dois termos verdadeiros: True\n",
            "   OR entre dois termos verdadeiros: True\n",
            "\n",
            "2. AND entre um termo verdadeiro e um termo falso: False\n",
            "   OR entre um termo verdadeiro e um termo falso: True\n",
            "\n",
            "3. AND entre dois termos falsos: False\n",
            "   OR entre dois termos falsos: False\n"
          ]
        }
      ]
    }
  ]
}
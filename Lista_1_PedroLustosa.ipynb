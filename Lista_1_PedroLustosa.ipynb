{
  "nbformat": 4,
  "nbformat_minor": 0,
  "metadata": {
    "colab": {
      "provenance": [],
      "authorship_tag": "ABX9TyNIukqTdGruNtgICss3kteY",
      "include_colab_link": true
    },
    "kernelspec": {
      "name": "python3",
      "display_name": "Python 3"
    },
    "language_info": {
      "name": "python"
    }
  },
  "cells": [
    {
      "cell_type": "markdown",
      "metadata": {
        "id": "view-in-github",
        "colab_type": "text"
      },
      "source": [
        "<a href=\"https://colab.research.google.com/github/Pedrolustosa/python_exercise_list1/blob/main/Lista_1_PedroLustosa.ipynb\" target=\"_parent\"><img src=\"https://colab.research.google.com/assets/colab-badge.svg\" alt=\"Open In Colab\"/></a>"
      ]
    },
    {
      "cell_type": "markdown",
      "source": [
        "1 - Compute a saída da seguinte expressão matemática sem realizar nenhuma simplificação:\n",
        "$ a^{2} + \\frac{3}{4} \\times b \\times 987(c - \\frac{10^{-9}}{\\sqrt{0.5^{3}}}) $. Assuma que os valores das variáveis a, b e c correpondam a 2, 4 e 8, respectivamente. Armazene o resultado em uma variável.\n",
        "\n",
        "Dica: consulte os operadores aritméticos disponíveis no Python. Utilize a biblioteca math para operação de raiz."
      ],
      "metadata": {
        "id": "JQjck00i889K"
      }
    },
    {
      "cell_type": "code",
      "execution_count": null,
      "metadata": {
        "colab": {
          "base_uri": "https://localhost:8080/"
        },
        "id": "RqaxJyl468Yo",
        "outputId": "508cab34-4754-472d-a134-7cbffe1d5661"
      },
      "outputs": [
        {
          "output_type": "stream",
          "name": "stdout",
          "text": [
            "Reultado: 23691.999991625027\n"
          ]
        }
      ],
      "source": [
        "import math\n",
        "\n",
        "a = 2\n",
        "b = 4\n",
        "c = 8\n",
        "\n",
        "resultado = a**2 + (3/4) * b * 987 * (c - 10**(-9) / math.sqrt(0.5**3))\n",
        "print(f\"Reultado: {resultado}\" )"
      ]
    },
    {
      "cell_type": "markdown",
      "source": [
        "Armazene em uma variável o resto da divisão da expressão anterior por 23691"
      ],
      "metadata": {
        "id": "Lkf3VpmW9bOh"
      }
    },
    {
      "cell_type": "code",
      "source": [
        "resto_divisao = int(resultado) % 23691\n",
        "resto_divisao"
      ],
      "metadata": {
        "colab": {
          "base_uri": "https://localhost:8080/"
        },
        "id": "QIPKhtjQ9cFK",
        "outputId": "6f16226f-2a74-4bfe-b8fb-80285feea38a"
      },
      "execution_count": null,
      "outputs": [
        {
          "output_type": "execute_result",
          "data": {
            "text/plain": [
              "0"
            ]
          },
          "metadata": {},
          "execution_count": 7
        }
      ]
    },
    {
      "cell_type": "markdown",
      "source": [
        "3 - Cheque se a saída do resto da divisão é ***i) igual a 1***, ***ii) maior que 1***, ***iii) menor ou igual que 1*** e ***iv) diferente de 1***. Utilize a função *print* para exibir a saída de cada checagem. Consulte os operadores relacionais disponívels no Python."
      ],
      "metadata": {
        "id": "q3dej8Hh-OOy"
      }
    },
    {
      "cell_type": "code",
      "source": [
        "condicao_i = resto_divisao == 1\n",
        "condicao_ii = resto_divisao > 1\n",
        "condicao_iii = resto_divisao <= 1\n",
        "condicao_iv = resto_divisao != 1\n",
        "\n",
        "print(f\"{condicao_i} - {condicao_ii} - {condicao_iii} - {condicao_iv} \")"
      ],
      "metadata": {
        "colab": {
          "base_uri": "https://localhost:8080/"
        },
        "id": "KFaCG_OJ-PXw",
        "outputId": "2658437f-5de4-4bb1-917e-43a57316b708"
      },
      "execution_count": null,
      "outputs": [
        {
          "output_type": "stream",
          "name": "stdout",
          "text": [
            "False - False - True - True \n"
          ]
        }
      ]
    },
    {
      "cell_type": "markdown",
      "source": [
        "4 - Exiba a saída de operações booleanas do tipo **AND** e do tipo **OR** entre dois termos que apresentem valores:\n",
        "1. **verdadeiros**;\n",
        "2. **verdadeiro e falso**;\n",
        "3. **falsos**.\n",
        "\n",
        "Ao todo devem ser apresentadas seis operações."
      ],
      "metadata": {
        "id": "3Nr6DfHK-mDI"
      }
    },
    {
      "cell_type": "code",
      "source": [
        "termo1_verdadeiro = True\n",
        "termo2_verdadeiro = True\n",
        "\n",
        "resultado_and_1 = termo1_verdadeiro and termo2_verdadeiro\n",
        "resultado_or_1 = termo1_verdadeiro or termo2_verdadeiro\n",
        "\n",
        "print(\"1. AND entre dois termos verdadeiros:\", resultado_and_1)\n",
        "print(\"   OR entre dois termos verdadeiros:\", resultado_or_1)\n",
        "\n",
        "termo1_verdadeiro = True\n",
        "termo2_falso = False\n",
        "\n",
        "resultado_and_2 = termo1_verdadeiro and termo2_falso\n",
        "resultado_or_2 = termo1_verdadeiro or termo2_falso\n",
        "\n",
        "print(\"\\n2. AND entre um termo verdadeiro e um termo falso:\", resultado_and_2)\n",
        "print(\"   OR entre um termo verdadeiro e um termo falso:\", resultado_or_2)\n",
        "\n",
        "termo1_falso = False\n",
        "termo2_falso = False\n",
        "\n",
        "resultado_and_3 = termo1_falso and termo2_falso\n",
        "resultado_or_3 = termo1_falso or termo2_falso\n",
        "\n",
        "print(\"\\n3. AND entre dois termos falsos:\", resultado_and_3)\n",
        "print(\"   OR entre dois termos falsos:\", resultado_or_3)\n"
      ],
      "metadata": {
        "colab": {
          "base_uri": "https://localhost:8080/"
        },
        "id": "zug3BCOg-mzu",
        "outputId": "61bb7315-2736-4b8e-ac91-8d65587ec022"
      },
      "execution_count": null,
      "outputs": [
        {
          "output_type": "stream",
          "name": "stdout",
          "text": [
            "1. AND entre dois termos verdadeiros: True\n",
            "   OR entre dois termos verdadeiros: True\n",
            "\n",
            "2. AND entre um termo verdadeiro e um termo falso: False\n",
            "   OR entre um termo verdadeiro e um termo falso: True\n",
            "\n",
            "3. AND entre dois termos falsos: False\n",
            "   OR entre dois termos falsos: False\n"
          ]
        }
      ]
    },
    {
      "cell_type": "markdown",
      "source": [
        "5 - Escreva a seguinte expressão booleana **(A + B) . (¬B . A)**. Considere que \"+\" indica uma operação  OR; \".\" indica uma operação AND e ''¬'' indica uma operação de negação (NOT). Defina previamente a variávei *A* com valor verdadeiro e a variávei *B* com valor falso."
      ],
      "metadata": {
        "id": "9OaWZwtnTrIp"
      }
    },
    {
      "cell_type": "code",
      "source": [
        "A = True\n",
        "B = False\n",
        "expressao = (A or B) and (not B and A)\n",
        "print(expressao)\n"
      ],
      "metadata": {
        "id": "cMs1DMcXT1W5",
        "outputId": "4ca1ccfd-a626-435d-ef9d-7ea9e93cf601",
        "colab": {
          "base_uri": "https://localhost:8080/"
        }
      },
      "execution_count": 2,
      "outputs": [
        {
          "output_type": "stream",
          "name": "stdout",
          "text": [
            "True\n"
          ]
        }
      ]
    },
    {
      "cell_type": "markdown",
      "source": [
        "6 - Cheque se a saída da expressão booleana da questão imediatamente anterior é falsa."
      ],
      "metadata": {
        "id": "GnJV_lv2ULG4"
      }
    },
    {
      "cell_type": "code",
      "source": [
        "if not resultado:\n",
        "    print(\"False\")\n",
        "else:\n",
        "    print(\"True\")\n"
      ],
      "metadata": {
        "id": "arf7cVEaUNqo",
        "outputId": "fca09bc7-6ffb-4872-f947-d1433cf8a05f",
        "colab": {
          "base_uri": "https://localhost:8080/"
        }
      },
      "execution_count": 4,
      "outputs": [
        {
          "output_type": "stream",
          "name": "stdout",
          "text": [
            "True\n"
          ]
        }
      ]
    },
    {
      "cell_type": "markdown",
      "source": [
        "7 - Defina uma variável com o valor \"hello wORld\". Utilize as funções de string do Python para reproduzir as seguintes saídas: \"Hello World\", \"hello world\", \"HELLO WORLD\".  Dica: para visualizar as funções disponíveis digite em uma célula de código `'str' ` e em seguida tecle tab.\n"
      ],
      "metadata": {
        "id": "JmXiaZg3UhT3"
      }
    },
    {
      "cell_type": "code",
      "source": [
        "texto = \"hello wORld\"\n",
        "primeira_maiuscula = texto.capitalize()\n",
        "print(primeira_maiuscula)\n",
        "minusculas = texto.lower()\n",
        "print(minusculas)\n",
        "maiusculas = texto.upper()\n",
        "print(maiusculas)\n"
      ],
      "metadata": {
        "id": "Hl286z_PUn2A",
        "outputId": "1b617a98-7478-4f7e-e612-33e7a3d1773a",
        "colab": {
          "base_uri": "https://localhost:8080/"
        }
      },
      "execution_count": 5,
      "outputs": [
        {
          "output_type": "stream",
          "name": "stdout",
          "text": [
            "Hello world\n",
            "hello world\n",
            "HELLO WORLD\n"
          ]
        }
      ]
    },
    {
      "cell_type": "markdown",
      "source": [
        "8 - Dada a seguinte frase \" *Esse é o seu primeiro tweet.* \", remova os espaços em branco das extremidades. Em seguida, substitua a palavra *'primeiro'* por *'segundo'*.\n",
        "\n",
        "\n",
        "\n",
        "**Observação:** a operação para remoção de espaços não atua em um modo '*in-place*', isto é, não altera diretamente o objeto, apenas retorna uma cópia modificada que pode ser armazenada em uma variável. A seguir, pode-se conferir um exemplo de uma operação que não é in-place e requer que assinalemos uma variável para receber a modificação."
      ],
      "metadata": {
        "id": "77qze599U8Yw"
      }
    },
    {
      "cell_type": "code",
      "source": [
        "frase = \" Esse é o seu primeiro tweet. \"\n",
        "frase_sem_espacos = frase.strip()\n",
        "frase_final = frase_sem_espacos.replace(\"primeiro\", \"segundo\")\n",
        "print(frase)\n",
        "print(frase_final)\n"
      ],
      "metadata": {
        "id": "4lhhxX9VU9Mv",
        "outputId": "e3530eb4-a2ba-4f61-e41d-2db60021d760",
        "colab": {
          "base_uri": "https://localhost:8080/"
        }
      },
      "execution_count": 7,
      "outputs": [
        {
          "output_type": "stream",
          "name": "stdout",
          "text": [
            " Esse é o seu primeiro tweet. \n",
            "Esse é o seu segundo tweet.\n"
          ]
        }
      ]
    },
    {
      "cell_type": "markdown",
      "source": [
        "9 - Fazendo uso do resultado da questão anterior, exiba a quantidade de ocorrências da palavra *'segundo'* e em seguida a quantidade de caracteres *'s'*."
      ],
      "metadata": {
        "id": "pMxp-UQnVTyW"
      }
    },
    {
      "cell_type": "code",
      "source": [
        "ocorrencias_segundo = frase_final.count(\"segundo\")\n",
        "quantidade_s = frase_final.count(\"s\")\n",
        "print(\"Número de ocorrências da palavra 'segundo':\", ocorrencias_segundo)\n",
        "print(\"Número de caracteres 's':\", quantidade_s)\n"
      ],
      "metadata": {
        "id": "Y1kHQhIKVTjY",
        "outputId": "f17ee123-dba5-479b-eb68-c62149b96435",
        "colab": {
          "base_uri": "https://localhost:8080/"
        }
      },
      "execution_count": 8,
      "outputs": [
        {
          "output_type": "stream",
          "name": "stdout",
          "text": [
            "Número de ocorrências da palavra 'segundo': 1\n",
            "Número de caracteres 's': 4\n"
          ]
        }
      ]
    },
    {
      "cell_type": "markdown",
      "source": [
        "10 - Concatene duas variáveis do tipo strings com valores arbitrários e exiba o resultado.\n",
        "\n",
        "**Observação:** A string resultante deve possuir no mínimo quatro caracteres."
      ],
      "metadata": {
        "id": "ADdeb3wXVcez"
      }
    },
    {
      "cell_type": "code",
      "source": [
        "string1 = \"Olá, \"\n",
        "string2 = \"mundo!\"\n",
        "resultado = string1 + string2\n",
        "print(resultado)\n"
      ],
      "metadata": {
        "id": "U6bYh9aDVex_",
        "outputId": "2bba0b5b-02f1-4f3b-e7c8-ed76dee55ca8",
        "colab": {
          "base_uri": "https://localhost:8080/"
        }
      },
      "execution_count": 9,
      "outputs": [
        {
          "output_type": "stream",
          "name": "stdout",
          "text": [
            "Olá, mundo!\n"
          ]
        }
      ]
    },
    {
      "cell_type": "markdown",
      "source": [
        "11 - Utilize a indexação e exiba apenas do segundo ao quarto caractere da variável do tipo string resultante questão imediatamente anterior."
      ],
      "metadata": {
        "id": "lFEyAQhUVmeT"
      }
    },
    {
      "cell_type": "code",
      "source": [
        "segmento = resultado[1:4]\n",
        "print(segmento)\n"
      ],
      "metadata": {
        "id": "ttFUfDfuVob-",
        "outputId": "71341632-fd70-45b5-88c0-c73c6a48fa3c",
        "colab": {
          "base_uri": "https://localhost:8080/"
        }
      },
      "execution_count": 11,
      "outputs": [
        {
          "output_type": "stream",
          "name": "stdout",
          "text": [
            "lá,\n"
          ]
        }
      ]
    },
    {
      "cell_type": "markdown",
      "source": [
        "12 - Exiba a string \"Mensagem: \" seguida pela string armazenada na variável *msg* definida abaixo. Dica: utilize a função format()."
      ],
      "metadata": {
        "id": "A5LvB8lrWKOi"
      }
    },
    {
      "cell_type": "code",
      "source": [
        "msg = \"Olá, mundo!\"\n",
        "print(\"{}\".format(msg))\n"
      ],
      "metadata": {
        "id": "O9gnDHMAWK6n",
        "outputId": "07561dce-9463-49c2-b783-37d07833a362",
        "colab": {
          "base_uri": "https://localhost:8080/"
        }
      },
      "execution_count": 13,
      "outputs": [
        {
          "output_type": "stream",
          "name": "stdout",
          "text": [
            "Olá, mundo!\n"
          ]
        }
      ]
    },
    {
      "cell_type": "markdown",
      "source": [
        "*13*  - Reproduza as próximas três mensagens a partir das variáveis definidas na célula de código.\n",
        "\n",
        "**Mensagem**: Definir uma string com três aspas simples permite construir textos com quebra de linha automática."
      ],
      "metadata": {
        "id": "fPCaZRdJWR0u"
      }
    },
    {
      "cell_type": "code",
      "source": [
        "pi = 3.14159\n",
        "nome = input(\"Digite o seu nome: \")\n",
        "idade = int(input(\"Digite a sua idade: \"))\n",
        "print(\"O meu nome é {} e eu tenho {} anos.\".format(nome, idade))\n",
        "print(\"O número pi é aproximadamente {:.2f}\".format(pi))\n"
      ],
      "metadata": {
        "id": "zjGNctklWahd",
        "outputId": "32b5a31a-8711-49c9-a33e-68492c702ef6",
        "colab": {
          "base_uri": "https://localhost:8080/"
        }
      },
      "execution_count": 16,
      "outputs": [
        {
          "output_type": "stream",
          "name": "stdout",
          "text": [
            "Digite o seu nome: pedro lustosa\n",
            "Digite a sua idade: 21\n",
            "O meu nome é pedro lustosa e eu tenho 21 anos.\n",
            "O número pi é aproximadamente 3.14\n"
          ]
        }
      ]
    },
    {
      "cell_type": "markdown",
      "source": [
        "14 - Realize as seguintes operações:\n",
        "\n",
        "\n",
        "1. Crie uma lista vazia.\n",
        "2. Adicione três elementos do tipo inteiro ao final da lista (*o método para adição de novos elementos em uma lista atua de forma in-place, portanto, basta invocá-lo.*).\n",
        "3. Adicione um novo elemento na segunda posição da lista (*método in-place).\n",
        "4. Exiba a soma dos quatro elementos (*python já possui uma função built-in para esssa operação*.)\n",
        "5. Re-assinale o elemento da terceiro posição com um valor do tipo float.\n",
        "6. Repita o passo 4.\n",
        "7. Inverta os elementos da lista atual. (*função para inversão é in-place*)\n",
        "8. Re-ordene os elementos da lista.\n",
        "9. Armazene uma nova lista em uma variável qualquer com 2 números inteiros.\n",
        "10. Concatena a nova lista criada com a lista resultante do passo 7.\n",
        "11. Exiba o valor máximo e mínimo da resultante do passo anterior.\n"
      ],
      "metadata": {
        "id": "yweDffvLXNkv"
      }
    },
    {
      "cell_type": "code",
      "source": [
        "lista = []\n",
        "lista.extend([1, 2, 3])\n",
        "lista.insert(1, 4)\n",
        "soma = sum(lista)\n",
        "print(soma)\n",
        "lista[2] = 3.5\n",
        "soma = sum(lista)\n",
        "print(soma)\n",
        "lista.reverse()\n",
        "lista.sort()\n",
        "nova_lista = [10, 20]\n",
        "lista.extend(nova_lista)\n",
        "maximo = max(lista)\n",
        "minimo = min(lista)\n",
        "print(maximo)\n",
        "print(minimo)\n"
      ],
      "metadata": {
        "id": "1zqYrI-hXVaa",
        "outputId": "5fa47007-4860-417d-cae4-7e11c5fc7d6d",
        "colab": {
          "base_uri": "https://localhost:8080/"
        }
      },
      "execution_count": 18,
      "outputs": [
        {
          "output_type": "stream",
          "name": "stdout",
          "text": [
            "10\n",
            "11.5\n",
            "20\n",
            "1\n"
          ]
        }
      ]
    },
    {
      "cell_type": "markdown",
      "source": [
        "15 - Converta a string definida abaixo em uma lista de palavras, armazene a lista em uma variável. Dica: cheque as operações disponíveis para strings."
      ],
      "metadata": {
        "id": "9-jG3TriXnRk"
      }
    },
    {
      "cell_type": "code",
      "source": [
        "texto = \"Formação de Recursos Humanos Qualificados em Inteligência Artificial\"\n",
        "lista_palavras = texto.split()\n",
        "print(lista_palavras)\n"
      ],
      "metadata": {
        "id": "zIXgt_NcXpkP",
        "outputId": "b51aba84-e8db-4935-a035-59fbfce342a7",
        "colab": {
          "base_uri": "https://localhost:8080/"
        }
      },
      "execution_count": 21,
      "outputs": [
        {
          "output_type": "stream",
          "name": "stdout",
          "text": [
            "['Formação', 'de', 'Recursos', 'Humanos', 'Qualificados', 'em', 'Inteligência', 'Artificial']\n"
          ]
        }
      ]
    },
    {
      "cell_type": "markdown",
      "source": [
        "16 - Verifique se a palavra \"Humanos\" está contida na lista de palavras criada anteriormente. Exiba True ou False para indicar a resposta."
      ],
      "metadata": {
        "id": "awUpuHDqX7EO"
      }
    },
    {
      "cell_type": "code",
      "source": [
        "esta_contida = \"Humanos\" in lista_palavras\n",
        "print(esta_contida)"
      ],
      "metadata": {
        "id": "yg5EdipJX6Jo",
        "outputId": "9fcaf03e-d8a2-4c31-eda0-154110f5b305",
        "colab": {
          "base_uri": "https://localhost:8080/"
        }
      },
      "execution_count": 22,
      "outputs": [
        {
          "output_type": "stream",
          "name": "stdout",
          "text": [
            "True\n"
          ]
        }
      ]
    },
    {
      "cell_type": "markdown",
      "source": [
        "17 - Crie automaticamente uma lista contendo 50 elementos de valor 3 e armazene-a em uma variável. Dica: utilize o operador de multiplicação."
      ],
      "metadata": {
        "id": "6Y5pG9B-YJ_7"
      }
    },
    {
      "cell_type": "code",
      "source": [
        "lista_50_elementos = [3] * 50\n",
        "print(lista_50_elementos)\n"
      ],
      "metadata": {
        "id": "81qCmDT4YKwl",
        "outputId": "9e49102a-e254-424b-9525-02d799d6c645",
        "colab": {
          "base_uri": "https://localhost:8080/"
        }
      },
      "execution_count": 23,
      "outputs": [
        {
          "output_type": "stream",
          "name": "stdout",
          "text": [
            "[3, 3, 3, 3, 3, 3, 3, 3, 3, 3, 3, 3, 3, 3, 3, 3, 3, 3, 3, 3, 3, 3, 3, 3, 3, 3, 3, 3, 3, 3, 3, 3, 3, 3, 3, 3, 3, 3, 3, 3, 3, 3, 3, 3, 3, 3, 3, 3, 3, 3]\n"
          ]
        }
      ]
    },
    {
      "cell_type": "markdown",
      "source": [
        "18 - Converta a lista resultante da primeira questão sobre Listas para uma tupla e exiba o tipo de dados do objeto criado. Após realizar o casting, utilize a indexação para exibir todos os elementos com exceção do primeiro e último."
      ],
      "metadata": {
        "id": "5QAAk9kSYV7j"
      }
    },
    {
      "cell_type": "code",
      "source": [
        "tupla_resultante = tuple(lista)\n",
        "print(type(tupla_resultante))\n",
        "elementos_excluindo_extremos = tupla_resultante[1:-1]\n",
        "print(elementos_excluindo_extremos)\n"
      ],
      "metadata": {
        "id": "lDtV8j2mYcMr",
        "outputId": "1d0d919d-9868-4d00-e740-5f5dbcae086e",
        "colab": {
          "base_uri": "https://localhost:8080/"
        }
      },
      "execution_count": 24,
      "outputs": [
        {
          "output_type": "stream",
          "name": "stdout",
          "text": [
            "<class 'tuple'>\n",
            "(3, 3.5, 4, 10)\n"
          ]
        }
      ]
    },
    {
      "cell_type": "markdown",
      "source": [
        "19 - Exiba os atributos/métodos disponíveis a partir objetos do tipo lista e tuple utilizados na questão anterior. Dica: utilize o método dir."
      ],
      "metadata": {
        "id": "7VUrDOdtYsA0"
      }
    },
    {
      "cell_type": "code",
      "source": [
        "print(dir(list))\n",
        "print(dir(tuple))\n"
      ],
      "metadata": {
        "id": "4EUgob-5Ysji",
        "outputId": "f3b8c641-c8c6-4d98-a75f-8a4ca3ea32b4",
        "colab": {
          "base_uri": "https://localhost:8080/"
        }
      },
      "execution_count": 26,
      "outputs": [
        {
          "output_type": "stream",
          "name": "stdout",
          "text": [
            "['__add__', '__class__', '__class_getitem__', '__contains__', '__delattr__', '__delitem__', '__dir__', '__doc__', '__eq__', '__format__', '__ge__', '__getattribute__', '__getitem__', '__gt__', '__hash__', '__iadd__', '__imul__', '__init__', '__init_subclass__', '__iter__', '__le__', '__len__', '__lt__', '__mul__', '__ne__', '__new__', '__reduce__', '__reduce_ex__', '__repr__', '__reversed__', '__rmul__', '__setattr__', '__setitem__', '__sizeof__', '__str__', '__subclasshook__', 'append', 'clear', 'copy', 'count', 'extend', 'index', 'insert', 'pop', 'remove', 'reverse', 'sort']\n",
            "['__add__', '__class__', '__class_getitem__', '__contains__', '__delattr__', '__dir__', '__doc__', '__eq__', '__format__', '__ge__', '__getattribute__', '__getitem__', '__getnewargs__', '__gt__', '__hash__', '__init__', '__init_subclass__', '__iter__', '__le__', '__len__', '__lt__', '__mul__', '__ne__', '__new__', '__reduce__', '__reduce_ex__', '__repr__', '__rmul__', '__setattr__', '__sizeof__', '__str__', '__subclasshook__', 'count', 'index']\n"
          ]
        }
      ]
    },
    {
      "cell_type": "markdown",
      "source": [
        "20 - Crie uma tupla contendo 5 números inteiros quaisquer. Em seguida, exiba o valor máximo e o valor mínimo da tupla criada."
      ],
      "metadata": {
        "id": "glpp9qcFY8i6"
      }
    },
    {
      "cell_type": "code",
      "source": [
        "tupla_numeros = (10, 5, 20, 15, 8)\n",
        "maximo = max(tupla_numeros)\n",
        "print(maximo)\n",
        "minimo = min(tupla_numeros)\n",
        "print(minimo)\n"
      ],
      "metadata": {
        "id": "6EXt7vwHZA6L",
        "outputId": "74cc763c-f1cf-4c92-db8f-76794630cd28",
        "colab": {
          "base_uri": "https://localhost:8080/"
        }
      },
      "execution_count": 27,
      "outputs": [
        {
          "output_type": "stream",
          "name": "stdout",
          "text": [
            "20\n",
            "5\n"
          ]
        }
      ]
    },
    {
      "cell_type": "markdown",
      "source": [
        "21 - A partir do dicionário inicializado abaixo com quatro items, adicione três novos items com chaves \"three\", \"four\" e \"five\" e valores \"três\", \"quatro\" e \"cinco\"."
      ],
      "metadata": {
        "id": "BtaNUJeSZI6S"
      }
    },
    {
      "cell_type": "code",
      "source": [
        "my_dict = {}\n",
        "my_dict[\"one\"] = \"um\"\n",
        "my_dict[\"two\"] = \"dois\"\n",
        "my_dict[(1,2)] = [\"um\",\"dois\"]\n",
        "my_dict[1.3] = \"um ponto três\"\n",
        "my_dict[\"three\"] = \"três\"\n",
        "my_dict[\"four\"] = \"quatro\"\n",
        "my_dict[\"five\"] = \"cinco\"\n",
        "print(my_dict)\n"
      ],
      "metadata": {
        "id": "X8_ojAQwZPBk",
        "outputId": "3a593162-c1d9-4a59-db4c-47c0419ebcf4",
        "colab": {
          "base_uri": "https://localhost:8080/"
        }
      },
      "execution_count": 28,
      "outputs": [
        {
          "output_type": "stream",
          "name": "stdout",
          "text": [
            "{'one': 'um', 'two': 'dois', (1, 2): ['um', 'dois'], 1.3: 'um ponto três', 'three': 'três', 'four': 'quatro', 'five': 'cinco'}\n"
          ]
        }
      ]
    },
    {
      "cell_type": "markdown",
      "source": [
        "22 - A partir do dicionário definido anteriormente, remova o item (\"one\", \"um\") do dicionário."
      ],
      "metadata": {
        "id": "3TWlP2zXZT-q"
      }
    },
    {
      "cell_type": "code",
      "source": [
        "my_dict = {\n",
        "    \"one\": \"um\",\n",
        "    \"two\": \"dois\",\n",
        "    (1, 2): [\"um\", \"dois\"],\n",
        "    1.3: \"um ponto três\",\n",
        "    \"three\": \"três\",\n",
        "    \"four\": \"quatro\",\n",
        "    \"five\": \"cinco\"\n",
        "}\n",
        "my_dict.pop(\"one\")\n",
        "print(my_dict)\n"
      ],
      "metadata": {
        "id": "MgBLDblRZYKT",
        "outputId": "6cc3987d-0b41-466d-86de-05f771b3ae2e",
        "colab": {
          "base_uri": "https://localhost:8080/"
        }
      },
      "execution_count": 29,
      "outputs": [
        {
          "output_type": "stream",
          "name": "stdout",
          "text": [
            "{'two': 'dois', (1, 2): ['um', 'dois'], 1.3: 'um ponto três', 'three': 'três', 'four': 'quatro', 'five': 'cinco'}\n"
          ]
        }
      ]
    },
    {
      "cell_type": "markdown",
      "source": [
        "23 - A partir do dicionário definido anteriormente, realize as seguintes operações ordenadamente.\n",
        "\n",
        "1.   Exiba a quantidade de items do dicionário.\n",
        "2.   Gere automaticamente uma lista contendo as  chaves do dicionário.\n",
        "3.   Gere automaticamente uma lista contendo os valores do dicionário.\n",
        "4.   Gere automaticamente uma lista composta por tuplas do tipo (chave, valor).\n",
        "5.   Remova os items cuja chaves são (1,2) e 1.3.\n",
        "6.   Exiba o dicionário final"
      ],
      "metadata": {
        "id": "3Obnac9OZgQ6"
      }
    },
    {
      "cell_type": "code",
      "source": [
        "my_dict = {\n",
        "    \"two\": \"dois\",\n",
        "    (1, 2): [\"um\", \"dois\"],\n",
        "    \"three\": \"três\",\n",
        "    \"four\": \"quatro\",\n",
        "    \"five\": \"cinco\"\n",
        "}\n",
        "quantidade_items = len(my_dict)\n",
        "print(quantidade_items)\n",
        "lista_chaves = list(my_dict.keys())\n",
        "print(lista_chaves)\n",
        "lista_valores = list(my_dict.values())\n",
        "print(lista_valores)\n",
        "lista_tuplas = list(my_dict.items())\n",
        "print(lista_tuplas)\n",
        "my_dict.pop((1, 2), None)\n",
        "my_dict.pop(1.3, None)\n",
        "print(my_dict)\n"
      ],
      "metadata": {
        "id": "nmdNGsmsZgsa",
        "outputId": "977c6aa8-1249-49c5-b49d-bb73f07e0d03",
        "colab": {
          "base_uri": "https://localhost:8080/"
        }
      },
      "execution_count": 30,
      "outputs": [
        {
          "output_type": "stream",
          "name": "stdout",
          "text": [
            "5\n",
            "['two', (1, 2), 'three', 'four', 'five']\n",
            "['dois', ['um', 'dois'], 'três', 'quatro', 'cinco']\n",
            "[('two', 'dois'), ((1, 2), ['um', 'dois']), ('three', 'três'), ('four', 'quatro'), ('five', 'cinco')]\n",
            "{'two': 'dois', 'three': 'três', 'four': 'quatro', 'five': 'cinco'}\n"
          ]
        }
      ]
    },
    {
      "cell_type": "markdown",
      "source": [
        "24 - A partir dos dicionários '*en*' e '*pt_br*' definidos abaixo, crie um terceiro dicionário denominado '*translator*' cujas chaves são, respectivamente, 'en' e 'pt_br' e os valores sejam os dicionários correspondentes. Exiba o dicionário criado."
      ],
      "metadata": {
        "id": "YBnjl1PkZx1i"
      }
    },
    {
      "cell_type": "code",
      "source": [
        "en = {1: \"one\", 2: \"two\", 3: \"three\"}\n",
        "pt_br = {1: \"um\", 2: \"dois\", 3: \"tres\"}\n",
        "translator = {\"en\": en, \"pt_br\": pt_br}\n",
        "print(translator)"
      ],
      "metadata": {
        "id": "USr5e_NJZ1wS",
        "outputId": "0a534e1e-db08-4282-a58a-1225fd132572",
        "colab": {
          "base_uri": "https://localhost:8080/"
        }
      },
      "execution_count": 32,
      "outputs": [
        {
          "output_type": "stream",
          "name": "stdout",
          "text": [
            "{'en': {1: 'one', 2: 'two', 3: 'three'}, 'pt_br': {1: 'um', 2: 'dois', 3: 'tres'}}\n"
          ]
        }
      ]
    },
    {
      "cell_type": "markdown",
      "source": [
        "25 - Utilize estruturas de decisão se-senão para construir um script que simule a árvore de decisão disposta na figura abaixo. Para cada nó da árvore, o usuário deve fornecer um valor a ser armazenado em uma variável e utilizado para verificar o fluxo que deve ser seguido até atingir uma das folha, exibindo algum dos valores \"Opção 1\", \"Opção 2\" ou \"Opção 3\".\n",
        "\n",
        "\n",
        "![alt text](https://docs.google.com/uc?export=download&id=1i5518GVTI9vh3proj3C1dblBXOJtHAvP)"
      ],
      "metadata": {
        "id": "rbM-ZM9naLUd"
      }
    },
    {
      "cell_type": "code",
      "source": [
        "valor_inicial = int(input(\"Digite um valor: \"))\n",
        "if valor_inicial < 10:\n",
        "    valor_2 = int(input(\"Digite outro valor: \"))\n",
        "    if valor_2 < 20:\n",
        "        print(\"Opção 1\")\n",
        "    else:\n",
        "        print(\"Opção 2\")\n",
        "else:\n",
        "    valor_3 = int(input(\"Digite mais um valor: \"))\n",
        "    if valor_3 < 30:\n",
        "        print(\"Opção 3\")\n",
        "    else:\n",
        "        print(\"Opção 2\")\n"
      ],
      "metadata": {
        "id": "hgcY3gCdaO88",
        "outputId": "6c30389e-c6a7-40bd-af94-2107adc1fc63",
        "colab": {
          "base_uri": "https://localhost:8080/"
        }
      },
      "execution_count": 33,
      "outputs": [
        {
          "output_type": "stream",
          "name": "stdout",
          "text": [
            "Digite um valor: 1\n",
            "Digite outro valor: 3\n",
            "Opção 1\n"
          ]
        }
      ]
    },
    {
      "cell_type": "markdown",
      "source": [
        "26 - Crie um programa que receba do usuário uma entrada referente a string \"Please, type 'q' to quit\". Enquanto o usuário não digitar o caractere 'q', o programa deve exibir \"Sorry, try again.\" e continuar solicitando a informação. Dica: utilize o comando break para interrupção."
      ],
      "metadata": {
        "id": "1PsduXY0aprg"
      }
    },
    {
      "cell_type": "code",
      "source": [
        "while True:\n",
        "    entrada = input(\"Please, type 'q' to quit: \")\n",
        "    if entrada == 'q':\n",
        "        break\n",
        "    else:\n",
        "        print(\"Sorry, try again.\")\n"
      ],
      "metadata": {
        "id": "qwmUB9braoqt",
        "outputId": "15f2dd89-a16c-4617-a7c2-9d3fd7004ecc",
        "colab": {
          "base_uri": "https://localhost:8080/"
        }
      },
      "execution_count": 35,
      "outputs": [
        {
          "name": "stdout",
          "output_type": "stream",
          "text": [
            "Please, type 'q' to quit: k\n",
            "Sorry, try again.\n",
            "Please, type 'q' to quit: 7\n",
            "Sorry, try again.\n",
            "Please, type 'q' to quit: q\n"
          ]
        }
      ]
    },
    {
      "cell_type": "markdown",
      "source": [
        "27 - Crie um programa que imprima apenas os números ímpares entre 1 e 100."
      ],
      "metadata": {
        "id": "GbpGmuBqa3R6"
      }
    },
    {
      "cell_type": "code",
      "source": [
        "for num in range(1, 101):\n",
        "    if num % 2 != 0:\n",
        "        print(num)\n"
      ],
      "metadata": {
        "id": "eC-FXz6ra7-p",
        "outputId": "b634998c-8e04-4631-c4ba-406d452977a8",
        "colab": {
          "base_uri": "https://localhost:8080/"
        }
      },
      "execution_count": 36,
      "outputs": [
        {
          "output_type": "stream",
          "name": "stdout",
          "text": [
            "1\n",
            "3\n",
            "5\n",
            "7\n",
            "9\n",
            "11\n",
            "13\n",
            "15\n",
            "17\n",
            "19\n",
            "21\n",
            "23\n",
            "25\n",
            "27\n",
            "29\n",
            "31\n",
            "33\n",
            "35\n",
            "37\n",
            "39\n",
            "41\n",
            "43\n",
            "45\n",
            "47\n",
            "49\n",
            "51\n",
            "53\n",
            "55\n",
            "57\n",
            "59\n",
            "61\n",
            "63\n",
            "65\n",
            "67\n",
            "69\n",
            "71\n",
            "73\n",
            "75\n",
            "77\n",
            "79\n",
            "81\n",
            "83\n",
            "85\n",
            "87\n",
            "89\n",
            "91\n",
            "93\n",
            "95\n",
            "97\n",
            "99\n"
          ]
        }
      ]
    },
    {
      "cell_type": "markdown",
      "source": [
        "28 - A partir da lista definida abaixo, crie uma nova lista contendo apenas os números negativos. Dica: considere utilizar o modo list comprehension."
      ],
      "metadata": {
        "id": "FBW-l27PbBES"
      }
    },
    {
      "cell_type": "code",
      "source": [
        "lista_original = [10, -5, 20, -8, -15, 25, -3]\n",
        "numeros_negativos = [num for num in lista_original if num < 0]\n",
        "print(numeros_negativos)\n"
      ],
      "metadata": {
        "id": "N3je40c0bEOv",
        "outputId": "f21c9005-8d87-40ee-b204-d44ca1f6f885",
        "colab": {
          "base_uri": "https://localhost:8080/"
        }
      },
      "execution_count": 37,
      "outputs": [
        {
          "output_type": "stream",
          "name": "stdout",
          "text": [
            "[-5, -8, -15, -3]\n"
          ]
        }
      ]
    },
    {
      "cell_type": "markdown",
      "source": [
        "29 - Converta a string definida abaixo em uma lista de palavras. Em seguida, crie um dicionário cujas chaves são as palavras contidas no texto e os valores representem a quantidade de ocorrências da palavra em questão.\n",
        "\n",
        "\n"
      ],
      "metadata": {
        "id": "Kq2kg30-bMye"
      }
    },
    {
      "cell_type": "code",
      "source": [
        "texto = '''\n",
        "Lorem ipsum dolor sit amet, consectetur adipiscing elit. Maecenas maximus consequat libero sed eleifend. Mauris pulvinar quam pharetra\n",
        "est efficitur maximus. Mauris tincidunt neque cursus ante vehicula viverra. Nullam neque neque, lobortis ut lacinia in, euismod non purus.\n",
        "Quisque egestas pellentesque nulla eget egestas. In sem felis, pellentesque bibendum hendrerit varius, dapibus blandit libero. Nunc\n",
        "fermentum id risus vel suscipit. Aenean laoreet posuere purus ac viverra. Sed vitae sem finibus, tempor magna a, iaculis ex. Pellentesque\n",
        "sit amet scelerisque purus, quis volutpat ante. Lorem ipsum dolor sit amet, consectetur adipiscing elit. Nulla cursus est metus, vitae\n",
        "molestie elit porta a. Praesent pharetra odio id purus auctor porttitor a ut risus. Lorem ipsum dolor sit amet, consectetur adipiscing elit.\n",
        "'''\n",
        "palavras = texto.split()\n",
        "ocorrencias_palavras = {}\n",
        "for palavra in palavras:\n",
        "    ocorrencias_palavras[palavra] = ocorrencias_palavras.get(palavra, 0) + 1\n",
        "print(ocorrencias_palavras)\n"
      ],
      "metadata": {
        "id": "9gFxsDKbbUHn",
        "outputId": "6600a874-7571-4fa3-dd96-657ce6cabbe6",
        "colab": {
          "base_uri": "https://localhost:8080/"
        }
      },
      "execution_count": 38,
      "outputs": [
        {
          "output_type": "stream",
          "name": "stdout",
          "text": [
            "{'Lorem': 3, 'ipsum': 3, 'dolor': 3, 'sit': 4, 'amet,': 3, 'consectetur': 3, 'adipiscing': 3, 'elit.': 3, 'Maecenas': 1, 'maximus': 1, 'consequat': 1, 'libero': 1, 'sed': 1, 'eleifend.': 1, 'Mauris': 2, 'pulvinar': 1, 'quam': 1, 'pharetra': 2, 'est': 2, 'efficitur': 1, 'maximus.': 1, 'tincidunt': 1, 'neque': 2, 'cursus': 2, 'ante': 1, 'vehicula': 1, 'viverra.': 2, 'Nullam': 1, 'neque,': 1, 'lobortis': 1, 'ut': 2, 'lacinia': 1, 'in,': 1, 'euismod': 1, 'non': 1, 'purus.': 1, 'Quisque': 1, 'egestas': 1, 'pellentesque': 2, 'nulla': 1, 'eget': 1, 'egestas.': 1, 'In': 1, 'sem': 2, 'felis,': 1, 'bibendum': 1, 'hendrerit': 1, 'varius,': 1, 'dapibus': 1, 'blandit': 1, 'libero.': 1, 'Nunc': 1, 'fermentum': 1, 'id': 2, 'risus': 1, 'vel': 1, 'suscipit.': 1, 'Aenean': 1, 'laoreet': 1, 'posuere': 1, 'purus': 2, 'ac': 1, 'Sed': 1, 'vitae': 2, 'finibus,': 1, 'tempor': 1, 'magna': 1, 'a,': 1, 'iaculis': 1, 'ex.': 1, 'Pellentesque': 1, 'amet': 1, 'scelerisque': 1, 'purus,': 1, 'quis': 1, 'volutpat': 1, 'ante.': 1, 'Nulla': 1, 'metus,': 1, 'molestie': 1, 'elit': 1, 'porta': 1, 'a.': 1, 'Praesent': 1, 'odio': 1, 'auctor': 1, 'porttitor': 1, 'a': 1, 'risus.': 1}\n"
          ]
        }
      ]
    },
    {
      "cell_type": "markdown",
      "source": [
        "30 - Imprima o dicionário gerado no passo anterior seguindo uma ordem alfabética.\n",
        "\n",
        "Dicas:\n",
        "1. Python já possui uma função built-in ordenação de listas\n",
        "2. É possível utilizar uma estrutura de repetição para construir um novo dicionário."
      ],
      "metadata": {
        "id": "XEwLYoqZbY0p"
      }
    },
    {
      "cell_type": "code",
      "source": [
        "chaves_ordenadas = sorted(ocorrencias_palavras.keys())\n",
        "dicionario_ordenado = {}\n",
        "for chave in chaves_ordenadas:\n",
        "    dicionario_ordenado[chave] = ocorrencias_palavras[chave]\n",
        "print(dicionario_ordenado)\n"
      ],
      "metadata": {
        "id": "19viplmkba2B",
        "outputId": "b99d6db2-388a-4add-90e2-0461fc0af987",
        "colab": {
          "base_uri": "https://localhost:8080/"
        }
      },
      "execution_count": 39,
      "outputs": [
        {
          "output_type": "stream",
          "name": "stdout",
          "text": [
            "{'Aenean': 1, 'In': 1, 'Lorem': 3, 'Maecenas': 1, 'Mauris': 2, 'Nulla': 1, 'Nullam': 1, 'Nunc': 1, 'Pellentesque': 1, 'Praesent': 1, 'Quisque': 1, 'Sed': 1, 'a': 1, 'a,': 1, 'a.': 1, 'ac': 1, 'adipiscing': 3, 'amet': 1, 'amet,': 3, 'ante': 1, 'ante.': 1, 'auctor': 1, 'bibendum': 1, 'blandit': 1, 'consectetur': 3, 'consequat': 1, 'cursus': 2, 'dapibus': 1, 'dolor': 3, 'efficitur': 1, 'egestas': 1, 'egestas.': 1, 'eget': 1, 'eleifend.': 1, 'elit': 1, 'elit.': 3, 'est': 2, 'euismod': 1, 'ex.': 1, 'felis,': 1, 'fermentum': 1, 'finibus,': 1, 'hendrerit': 1, 'iaculis': 1, 'id': 2, 'in,': 1, 'ipsum': 3, 'lacinia': 1, 'laoreet': 1, 'libero': 1, 'libero.': 1, 'lobortis': 1, 'magna': 1, 'maximus': 1, 'maximus.': 1, 'metus,': 1, 'molestie': 1, 'neque': 2, 'neque,': 1, 'non': 1, 'nulla': 1, 'odio': 1, 'pellentesque': 2, 'pharetra': 2, 'porta': 1, 'porttitor': 1, 'posuere': 1, 'pulvinar': 1, 'purus': 2, 'purus,': 1, 'purus.': 1, 'quam': 1, 'quis': 1, 'risus': 1, 'risus.': 1, 'scelerisque': 1, 'sed': 1, 'sem': 2, 'sit': 4, 'suscipit.': 1, 'tempor': 1, 'tincidunt': 1, 'ut': 2, 'varius,': 1, 'vehicula': 1, 'vel': 1, 'vitae': 2, 'viverra.': 2, 'volutpat': 1}\n"
          ]
        }
      ]
    },
    {
      "cell_type": "markdown",
      "source": [
        "31 - Na lista 'colors' definida abaixo têm-se três tipos diferentes de cores. A partir dela, crie uma nova lista na qual cada string deve assumir uma lista com valores inteiros seguindo uma estratégia binária da seguinte forma:\n",
        "\n",
        "```\n",
        "red,\tgreen,\tblue\n",
        "[1,\t\t0,\t\t0]\n",
        "[0,\t\t1,\t\t0]\n",
        "[0,\t\t0,\t\t1]\n",
        "\n",
        "```\n",
        "\n",
        "Dica: crie uma lista com os três possíveis valores e utilize a posição do elemento."
      ],
      "metadata": {
        "id": "W5cestUdbjsd"
      }
    },
    {
      "cell_type": "code",
      "source": [
        "# Lista de cores definida abaixo\n",
        "colors = ['blue', 'blue', 'green', 'blue', 'red', 'red', 'green', 'blue', 'green', 'red']\n",
        "\n",
        "# Mapeamento das cores para valores binários\n",
        "cores_binarias = {'red': '[1, 0, 0]', 'green': '[0, 1, 0]', 'blue': '[0, 0, 1]'}\n",
        "\n",
        "# Exibindo os cabeçalhos\n",
        "print(\"red,\".ljust(10), \"green,\".center(10), \"blue,\".rjust(10))\n",
        "# Exibindo os valores binários para as cores\n",
        "for cor in colors:\n",
        "    valor_binario = cores_binarias[cor][1:-1].split(', ')\n",
        "    valor_binario_formatado = [f\"{int(num):^7}\" for num in valor_binario]\n",
        "    print(f\"[{valor_binario_formatado[0]}, {valor_binario_formatado[1]}, {valor_binario_formatado[2]}]\")\n"
      ],
      "metadata": {
        "id": "4d1lCewkbjgS",
        "outputId": "889756a8-a524-4ad1-b4b6-f149d4c0910a",
        "colab": {
          "base_uri": "https://localhost:8080/"
        }
      },
      "execution_count": 71,
      "outputs": [
        {
          "output_type": "stream",
          "name": "stdout",
          "text": [
            "red,         green,        blue,\n",
            "[   0   ,    0   ,    1   ]\n",
            "[   0   ,    0   ,    1   ]\n",
            "[   0   ,    1   ,    0   ]\n",
            "[   0   ,    0   ,    1   ]\n",
            "[   1   ,    0   ,    0   ]\n",
            "[   1   ,    0   ,    0   ]\n",
            "[   0   ,    1   ,    0   ]\n",
            "[   0   ,    0   ,    1   ]\n",
            "[   0   ,    1   ,    0   ]\n",
            "[   1   ,    0   ,    0   ]\n"
          ]
        }
      ]
    },
    {
      "cell_type": "markdown",
      "source": [
        "32 - A partir da lista resultante da questão imediatamente anterior,  reverta o processo e retorne uma lista contendo as strings 'blue', 'green' e 'red'."
      ],
      "metadata": {
        "id": "IGv0mCcvgaZx"
      }
    },
    {
      "cell_type": "code",
      "source": [
        "valores_binarios = ['[0, 0, 1]', '[0, 1, 0]', '[1, 0, 0]', '[0, 0, 1]', '[1, 0, 0]', '[1, 0, 0]', '[0, 1, 0]', '[0, 0, 1]', '[0, 1, 0]', '[1, 0, 0]']\n",
        "cores = {'[1, 0, 0]': 'red', '[0, 1, 0]': 'green', '[0, 0, 1]': 'blue'}\n",
        "for valor_binario in valores_binarios:\n",
        "    valor_binario = valor_binario[1:-1].split(', ')\n",
        "    valor_cor = cores[f\"[{valor_binario[0]}, {valor_binario[1]}, {valor_binario[2]}]\"]\n",
        "    print(f\"[{valor_cor}],\", end=\" \")\n"
      ],
      "metadata": {
        "id": "6N1iyM0FhT_1",
        "outputId": "88810b13-4f30-47a1-c35c-02485a3e5de8",
        "colab": {
          "base_uri": "https://localhost:8080/"
        }
      },
      "execution_count": 80,
      "outputs": [
        {
          "output_type": "stream",
          "name": "stdout",
          "text": [
            "[blue], [green], [red], [blue], [red], [red], [green], [blue], [green], [red], "
          ]
        }
      ]
    },
    {
      "cell_type": "markdown",
      "source": [
        "33 - Crie uma função que calcule o fatorial de um número passado como argumento. Caso o número seja negativo, retorne um valor nulo. Caso positivo, retorne o resultado do fatorial. Dica: utilize recursividade e lembre-se de considerar que o fatorial de 0 é 1.\n"
      ],
      "metadata": {
        "id": "52xg0YKEiadq"
      }
    },
    {
      "cell_type": "code",
      "source": [
        "def fatorial(n):\n",
        "    if n < 0:\n",
        "        return None\n",
        "    elif n == 0:\n",
        "        return 1\n",
        "    else:\n",
        "        return n * fatorial(n - 1)\n",
        "numero = int(input(\"Digite um número para calcular o fatorial: \"))\n",
        "resultado = fatorial(numero)\n",
        "if resultado is not None:\n",
        "    print(f\"O fatorial de {numero} é {resultado}.\")\n",
        "else:\n",
        "    print(\"O número deve ser não negativo.\")\n"
      ],
      "metadata": {
        "id": "_2ihAK9lijyb",
        "outputId": "a481bb87-4204-48dd-f9b5-f2aff426b253",
        "colab": {
          "base_uri": "https://localhost:8080/"
        }
      },
      "execution_count": 81,
      "outputs": [
        {
          "output_type": "stream",
          "name": "stdout",
          "text": [
            "Digite um número para calcular o fatorial: 5\n",
            "O fatorial de 5 é 120.\n"
          ]
        }
      ]
    },
    {
      "cell_type": "markdown",
      "source": [
        "34 - Define uma função que receba um número arbitrário de argumentos e retorne a sua soma. Exiba o resultado de uma chamada dessa função passando como argumentos números inteiros."
      ],
      "metadata": {
        "id": "slPeTdqjicmT"
      }
    },
    {
      "cell_type": "code",
      "source": [
        "def soma(*args):\n",
        "    return sum(args)\n",
        "resultado = soma(1, 2, 3, 4, 5)\n",
        "print(resultado)\n"
      ],
      "metadata": {
        "id": "V6N_rZB5ixic",
        "outputId": "c4e58182-200b-4c75-ce6b-fed5962a361d",
        "colab": {
          "base_uri": "https://localhost:8080/"
        }
      },
      "execution_count": 82,
      "outputs": [
        {
          "output_type": "stream",
          "name": "stdout",
          "text": [
            "15\n"
          ]
        }
      ]
    },
    {
      "cell_type": "markdown",
      "source": [
        "35 - Utilize a função *range* para criar uma lista de números inteiros que vai de 100 a -100, seguindo uma ordem decrescente e com intervalos de duas unidades. Exiba a lista gerada."
      ],
      "metadata": {
        "id": "qZ9qeOlHiebd"
      }
    },
    {
      "cell_type": "code",
      "source": [
        "numeros = list(range(100, -101, -2))\n",
        "print(numeros)"
      ],
      "metadata": {
        "id": "MwlkB9xgi6GE",
        "outputId": "e2eb82fe-5ebe-444b-9c0d-b4ce9f1569df",
        "colab": {
          "base_uri": "https://localhost:8080/"
        }
      },
      "execution_count": 83,
      "outputs": [
        {
          "output_type": "stream",
          "name": "stdout",
          "text": [
            "[100, 98, 96, 94, 92, 90, 88, 86, 84, 82, 80, 78, 76, 74, 72, 70, 68, 66, 64, 62, 60, 58, 56, 54, 52, 50, 48, 46, 44, 42, 40, 38, 36, 34, 32, 30, 28, 26, 24, 22, 20, 18, 16, 14, 12, 10, 8, 6, 4, 2, 0, -2, -4, -6, -8, -10, -12, -14, -16, -18, -20, -22, -24, -26, -28, -30, -32, -34, -36, -38, -40, -42, -44, -46, -48, -50, -52, -54, -56, -58, -60, -62, -64, -66, -68, -70, -72, -74, -76, -78, -80, -82, -84, -86, -88, -90, -92, -94, -96, -98, -100]\n"
          ]
        }
      ]
    },
    {
      "cell_type": "markdown",
      "source": [
        "36 - Crie uma função anônima que tenha como entrada um único parâmetro e retorne a sua raiz caso o número informado seja maior ou igual a 0. Em caso de números negativos, retorne um valor nulo. Teste a função para os valores -9, 0, 9. Dica: utilize a biblioteca math para acessar operações matemáticas."
      ],
      "metadata": {
        "id": "LeZRMrwJigUV"
      }
    },
    {
      "cell_type": "code",
      "source": [
        "import math\n",
        "raiz_quadrada = lambda x: math.sqrt(x) if x >= 0 else None\n",
        "valores = [-9, 0, 9]\n",
        "for valor in valores:\n",
        "    resultado = raiz_quadrada(valor)\n",
        "    if resultado is not None:\n",
        "        print(f\"{valor} = {resultado}.\")\n",
        "    else:\n",
        "        print(f\"não possui raiz quadrada real.\")\n"
      ],
      "metadata": {
        "id": "M4Am9qcdi_NO",
        "outputId": "964fd054-87c8-42c1-c07f-3a249a1efd3c",
        "colab": {
          "base_uri": "https://localhost:8080/"
        }
      },
      "execution_count": 84,
      "outputs": [
        {
          "output_type": "stream",
          "name": "stdout",
          "text": [
            "não possui raiz quadrada real.\n",
            "0 = 0.0.\n",
            "9 = 3.0.\n"
          ]
        }
      ]
    },
    {
      "cell_type": "markdown",
      "source": [
        "37 - Uma pesquisa de satisfação dos empregados de uma determinada empresa reuniu dados referente a um questionário no qual foi computado o nível de satisfação do empregado em relação ao salário recebido. Os valores salariais estão armazenados na variávei 'salarios' e pontuação do questionário está armazenada na variável 'satisfacao_empregado'. Realize os seguintes procedimentos.\n",
        "\n",
        "1. A partir da lista satisfacao_empregados, gere uma nova lista com valores normalizados entre 0 e 1.  Fórmula para normalização: $ \\frac{x_i - x_{min}}{x_{max} - x_{min}} $\n",
        "2. Crie a seguinte função: $ f(x) = 0.0004x -0.4 $. A função recebe como entrada um unico número inteiro.\n",
        "3. Utilize a função criada no passo anterior para criar uma nova lista a partir da lista '*salarios*'. Armazene-a em uma variável denominada '*satisfacao_estimada*'.\n",
        "4. Crie uma função que receba como entrada duas listas e compute $ \\frac{1}{n}\\sum_{i=0}^{n}(a_i - b_i)^2 $. Assuma que $n$ seja o número de elementos de qualquer uma das listas e $a$ e $b$ correspondam a valores das listas em uma mesma posição $i$.\n",
        "\n",
        "Dica: considere utilizar a função map e a função anônima lambda para os procedimentos simples como, por exemplo, dos passos 1 ao 3."
      ],
      "metadata": {
        "id": "2NoN8ecXjKED"
      }
    },
    {
      "cell_type": "code",
      "source": [
        "salarios = [1000, 1500, 2000, 2500, 3000, 3500]\n",
        "satisfacao_empregados = [40, 50, 60, 70, 80, 90]\n",
        "def normalizar_lista(lista):\n",
        "    return list(map(lambda x: (x - min(lista)) / (max(lista) - min(lista)), lista))\n",
        "satisfacao_empregados_normalizado = normalizar_lista(satisfacao_empregados)\n",
        "def calcular_satisfacao(salario):\n",
        "    return 0.0004 * salario - 0.4\n",
        "satisfacao_estimada = list(map(calcular_satisfacao, salarios))\n",
        "def calcular_erro_quadratico_minimo(lista_a, lista_b):\n",
        "    n = len(lista_a)\n",
        "    soma_quadrados_diferencas = sum((a - b) ** 2 for a, b in zip(lista_a, lista_b))\n",
        "    return soma_quadrados_diferencas / n\n",
        "erro_medio = calcular_erro_quadratico_minimo(satisfacao_empregados_normalizado, satisfacao_estimada)\n",
        "print(erro_medio)"
      ],
      "metadata": {
        "id": "2eU_30wEjLE2",
        "outputId": "82ba34e7-18fa-4429-d460-e4ad1617e9b3",
        "colab": {
          "base_uri": "https://localhost:8080/"
        }
      },
      "execution_count": 88,
      "outputs": [
        {
          "output_type": "stream",
          "name": "stdout",
          "text": [
            "2.5679065925163146e-33\n"
          ]
        }
      ]
    },
    {
      "cell_type": "markdown",
      "source": [
        "38 - A partir da lista definida abaixo, filtre-a de forma que somente as palavras com menos de 3 caracteres sejam mantidas. Dica: utilize a função filter."
      ],
      "metadata": {
        "id": "Fc_7IcYsjNVk"
      }
    },
    {
      "cell_type": "code",
      "source": [
        "lista = ['tempor', 'erat,', 'in,', 'elit', 'Etiam', 'tincidunt.', 'rutrum', 'ut,', 'lacinia', 'Integer', 'Nam', 'turpis', 'Nulla', 'non.', 'vehicula', 'diam', 'porttitor', 'blandit', 'Sed', 'pharetra', 'erat', 'hendrerit', 'tristique', 'vulputate', 'faucibus.', 'augue.', 'potenti.', 'vel', 'eros', 'imperdiet,', 'a.', 'dolor.', 'pretium', 'Fusce', 'sit', 'ornare', 'Morbi', 'quis', 'fringilla', 'lobortis', 'tempus', 'mauris', 'ante,', 'lacus', 'porta.', 'faucibus,', 'quis.', 'vestibulum', 'primis', 'luctus,', 'ullamcorper.', 'augue', 'nec', 'mollis', 'lectus', 'dolor', 'sodales', 'ligula,', 'dignissim', 'sem', 'varius', 'mi', 'eu', 'elit.', 'semper', 'id,', 'tempus.', 'finibus.', 'neque', 'quam.', 'scelerisque', 'lorem', 'diam,', 'Cras', 'nisi', 'Lorem', 'leo,', 'Ut', 'ut', 'feugiat.', 'ante', 'venenatis', 'fermentum', 'congue', 'urna', 'Praesent', 'Donec', 'Vestibulum', 'purus.', 'Nullam', 'tincidunt', 'efficitur', 'velit', 'commodo.', 'iaculis', 'sed,', 'volutpat', 'amet', 'mauris.', 'odio', 'a', 'Interdum', 'neque.', 'risus', 'vitae', 'consectetur', 'adipiscing', 'at', 'Aliquam', 'molestie', 'euismod', 'odio.', 'sed', 'in', 'suscipit', 'augue,', 'sapien', 'posuere', 'euismod,', 'ipsum', 'et.', 'maximus.', 'risus,', 'Suspendisse', 'et', 'facilisis', 'elementum', 'efficitur,', 'ac', 'nulla.', 'quam', 'arcu', 'fames', 'Nunc', 'pharetra,', 'laoreet', 'ligula', 'fermentum,', 'auctor', 'tortor,', 'Curabitur', 'eget', 'finibus', 'ultrices', 'malesuada', 'purus', 'congue,', 'amet,', 'fermentum.', 'dui']\n",
        "palavras_filtradas = list(filter(lambda palavra: len(palavra) < 3, lista))\n",
        "print(palavras_filtradas)\n"
      ],
      "metadata": {
        "id": "r9fUKqd0jPxj",
        "outputId": "205162a0-c058-4021-a145-afbaf3c59261",
        "colab": {
          "base_uri": "https://localhost:8080/"
        }
      },
      "execution_count": 87,
      "outputs": [
        {
          "output_type": "stream",
          "name": "stdout",
          "text": [
            "['a.', 'mi', 'eu', 'Ut', 'ut', 'a', 'at', 'in', 'et', 'ac']\n"
          ]
        }
      ]
    },
    {
      "cell_type": "markdown",
      "source": [
        "39 - A partir da lista definida abaixo, gere automaticamente e exiba um dicionário enumerado do tipo:\n",
        "\n",
        "```\n",
        "dicionario = {0: 'Preprocessing', 1: 'Feature Extraction', 2: 'Feature Selection' ...}\n",
        "\n",
        "```\n",
        "\n",
        "Em seguida, gere a seguinte saída:\n",
        "\n",
        "Step 1 - Preprocessing\n",
        "\n",
        "Step 2 - Feature Extraction\n",
        "\n",
        "Step 3 - Feature Selection\n",
        "\n",
        "Step 4 - Classification\n",
        "\n",
        "Step 5 - Post Processing"
      ],
      "metadata": {
        "id": "t7ukRSyMjQU8"
      }
    },
    {
      "cell_type": "code",
      "source": [
        "lista_passos = ['Preprocessing', 'Feature Extraction', 'Feature Selection', 'Classification', 'Post Processing']\n",
        "dicionario_enum = {indice: passo for indice, passo in enumerate(lista_passos)}\n",
        "print(dicionario_enum)\n",
        "for indice, passo in enumerate(lista_passos, start=1):\n",
        "    print(f\"Step {indice} - {passo}\")\n"
      ],
      "metadata": {
        "id": "BGDN-0oejNA_",
        "outputId": "93c8ca16-ea4f-4d73-98da-2a9653cd9d41",
        "colab": {
          "base_uri": "https://localhost:8080/"
        }
      },
      "execution_count": 86,
      "outputs": [
        {
          "output_type": "stream",
          "name": "stdout",
          "text": [
            "{0: 'Preprocessing', 1: 'Feature Extraction', 2: 'Feature Selection', 3: 'Classification', 4: 'Post Processing'}\n",
            "Step 1 - Preprocessing\n",
            "Step 2 - Feature Extraction\n",
            "Step 3 - Feature Selection\n",
            "Step 4 - Classification\n",
            "Step 5 - Post Processing\n"
          ]
        }
      ]
    },
    {
      "cell_type": "markdown",
      "source": [
        "40 - Realize os seguintes procedimentos:\n",
        "1. Crie uma lista de números inteiros de 1 a 4 com incremento de 1 em 1.\n",
        "2. Crie uma lista contendo quatro strings.\n",
        "3. Utilize uma única estrutura de repetição do tipo *for* para iterar paralelamente sobre os quatro elementos de cada uma das duas listas. Exiba os elementos."
      ],
      "metadata": {
        "id": "D-9rPuOvjRP5"
      }
    },
    {
      "cell_type": "code",
      "source": [
        "numeros = list(range(1, 5))\n",
        "strings = ['a', 'b', 'c', 'd']\n",
        "for numero, string in zip(numeros, strings):\n",
        "    print(numero, string)\n"
      ],
      "metadata": {
        "id": "RdCC7UzojUJl",
        "outputId": "ab50e3bb-5280-4a2d-8a66-4f303e51b9b2",
        "colab": {
          "base_uri": "https://localhost:8080/"
        }
      },
      "execution_count": 85,
      "outputs": [
        {
          "output_type": "stream",
          "name": "stdout",
          "text": [
            "1 a\n",
            "2 b\n",
            "3 c\n",
            "4 d\n"
          ]
        }
      ]
    }
  ]
}